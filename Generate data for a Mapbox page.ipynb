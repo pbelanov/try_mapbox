{
 "cells": [
  {
   "cell_type": "markdown",
   "metadata": {},
   "source": [
    "# Goal\n",
    "\n",
    "I want to make a quick 'hello world' page using the Mabox Web API. For this, I need a GeoJSON grid and some data to plot on that grid. This notebook generates those two files."
   ]
  },
  {
   "cell_type": "markdown",
   "metadata": {},
   "source": [
    "# Setup"
   ]
  },
  {
   "cell_type": "code",
   "execution_count": 131,
   "metadata": {
    "collapsed": true
   },
   "outputs": [],
   "source": [
    "import numpy as np\n",
    "import pandas as pd\n",
    "import json\n",
    "import random\n",
    "import string"
   ]
  },
  {
   "cell_type": "code",
   "execution_count": 132,
   "metadata": {
    "collapsed": true
   },
   "outputs": [],
   "source": [
    "# parameters\n",
    "n_lat = 20  # number of polygons in the latitude direction\n",
    "n_lon = 20  # number of polygons in the longitude direction\n",
    "n_sites = 10  # some random sites\n",
    "step_lat = 0.01  # width of a polygon in the latitude direction, in degrees\n",
    "step_lon = 0.02  # width of a polygon in the longitude direction, in degrees\n",
    "min_lat = 47.  # minimum latitude, in degrees\n",
    "min_lon = 7.  # minimum longitude, in degrees\n",
    "data_dir = './'\n",
    "fname_geojson = data_dir + 'grid.json'"
   ]
  },
  {
   "cell_type": "markdown",
   "metadata": {},
   "source": [
    "# GeoJSON file\n",
    "\n",
    "This is the definition of the grid, with the data to be plotted (random and regular)."
   ]
  },
  {
   "cell_type": "code",
   "execution_count": 133,
   "metadata": {
    "collapsed": false
   },
   "outputs": [],
   "source": [
    "lf = []  # list of Features\n",
    "for y in range(n_lat):\n",
    "    for x in range(n_lon):\n",
    "        id_string = '%d-%d' % (y, x)\n",
    "        name = 'Grid point %s' % id_string\n",
    "        min_y = min_lat + y * step_lat\n",
    "        min_x = min_lon + x * step_lon\n",
    "        val_rand = np.random.rand()\n",
    "        val_regu = y / (2 * n_lat) + x / (2 * n_lon)\n",
    "        description = '<h3>%s</h3>' % name + \\\n",
    "            'Regular value: %.3f<br>' % val_regu + \\\n",
    "            'Random value: %.3f' % val_rand\n",
    "        coords = [[\n",
    "            (min_x, min_y),\n",
    "            (min_x + step_lon, min_y),\n",
    "            (min_x + step_lon, min_y + step_lat),\n",
    "            (min_x, min_y + step_lat),\n",
    "            (min_x, min_y)\n",
    "        ]]\n",
    "        element_type = 'gridpoint'\n",
    "        geo = {\n",
    "            'type': 'Polygon',\n",
    "            'coordinates': coords,\n",
    "        }\n",
    "        prop = {\n",
    "            'id': id_string,\n",
    "            'element_type': element_type,\n",
    "            'name': name,\n",
    "            'random': val_rand,\n",
    "            'regular': val_regu,\n",
    "            'description': description\n",
    "        }\n",
    "        feat = {\n",
    "            'type': 'Feature',\n",
    "            'geometry': geo,\n",
    "            'properties': prop\n",
    "        }\n",
    "        lf.append(feat)"
   ]
  },
  {
   "cell_type": "code",
   "execution_count": 134,
   "metadata": {
    "collapsed": false
   },
   "outputs": [
    {
     "ename": "NameError",
     "evalue": "name 'string' is not defined",
     "output_type": "error",
     "traceback": [
      "\u001b[0;31m---------------------------------------------------------------------------\u001b[0m",
      "\u001b[0;31mNameError\u001b[0m                                 Traceback (most recent call last)",
      "\u001b[0;32m<ipython-input-134-b35dc619a76d>\u001b[0m in \u001b[0;36m<module>\u001b[0;34m()\u001b[0m\n\u001b[1;32m      1\u001b[0m \u001b[0;31m# add some sites\u001b[0m\u001b[0;34m\u001b[0m\u001b[0;34m\u001b[0m\u001b[0m\n\u001b[1;32m      2\u001b[0m \u001b[0;32mfor\u001b[0m \u001b[0mq\u001b[0m \u001b[0;32min\u001b[0m \u001b[0mrange\u001b[0m\u001b[0;34m(\u001b[0m\u001b[0mn_sites\u001b[0m\u001b[0;34m)\u001b[0m\u001b[0;34m:\u001b[0m\u001b[0;34m\u001b[0m\u001b[0m\n\u001b[0;32m----> 3\u001b[0;31m     \u001b[0mid_string\u001b[0m \u001b[0;34m=\u001b[0m \u001b[0;34m''\u001b[0m\u001b[0;34m.\u001b[0m\u001b[0mjoin\u001b[0m\u001b[0;34m(\u001b[0m\u001b[0mrandom\u001b[0m\u001b[0;34m.\u001b[0m\u001b[0mchoice\u001b[0m\u001b[0;34m(\u001b[0m\u001b[0mstring\u001b[0m\u001b[0;34m.\u001b[0m\u001b[0mascii_uppercase\u001b[0m\u001b[0;34m)\u001b[0m \u001b[0;32mfor\u001b[0m \u001b[0m_\u001b[0m \u001b[0;32min\u001b[0m \u001b[0mrange\u001b[0m\u001b[0;34m(\u001b[0m\u001b[0;36m4\u001b[0m\u001b[0;34m)\u001b[0m\u001b[0;34m)\u001b[0m\u001b[0;34m\u001b[0m\u001b[0m\n\u001b[0m\u001b[1;32m      4\u001b[0m     \u001b[0mname\u001b[0m \u001b[0;34m=\u001b[0m \u001b[0;34m'Site %s'\u001b[0m \u001b[0;34m%\u001b[0m \u001b[0mid_string\u001b[0m\u001b[0;34m\u001b[0m\u001b[0m\n\u001b[1;32m      5\u001b[0m     coords = [\n",
      "\u001b[0;32m<ipython-input-134-b35dc619a76d>\u001b[0m in \u001b[0;36m<genexpr>\u001b[0;34m(.0)\u001b[0m\n\u001b[1;32m      1\u001b[0m \u001b[0;31m# add some sites\u001b[0m\u001b[0;34m\u001b[0m\u001b[0;34m\u001b[0m\u001b[0m\n\u001b[1;32m      2\u001b[0m \u001b[0;32mfor\u001b[0m \u001b[0mq\u001b[0m \u001b[0;32min\u001b[0m \u001b[0mrange\u001b[0m\u001b[0;34m(\u001b[0m\u001b[0mn_sites\u001b[0m\u001b[0;34m)\u001b[0m\u001b[0;34m:\u001b[0m\u001b[0;34m\u001b[0m\u001b[0m\n\u001b[0;32m----> 3\u001b[0;31m     \u001b[0mid_string\u001b[0m \u001b[0;34m=\u001b[0m \u001b[0;34m''\u001b[0m\u001b[0;34m.\u001b[0m\u001b[0mjoin\u001b[0m\u001b[0;34m(\u001b[0m\u001b[0mrandom\u001b[0m\u001b[0;34m.\u001b[0m\u001b[0mchoice\u001b[0m\u001b[0;34m(\u001b[0m\u001b[0mstring\u001b[0m\u001b[0;34m.\u001b[0m\u001b[0mascii_uppercase\u001b[0m\u001b[0;34m)\u001b[0m \u001b[0;32mfor\u001b[0m \u001b[0m_\u001b[0m \u001b[0;32min\u001b[0m \u001b[0mrange\u001b[0m\u001b[0;34m(\u001b[0m\u001b[0;36m4\u001b[0m\u001b[0;34m)\u001b[0m\u001b[0;34m)\u001b[0m\u001b[0;34m\u001b[0m\u001b[0m\n\u001b[0m\u001b[1;32m      4\u001b[0m     \u001b[0mname\u001b[0m \u001b[0;34m=\u001b[0m \u001b[0;34m'Site %s'\u001b[0m \u001b[0;34m%\u001b[0m \u001b[0mid_string\u001b[0m\u001b[0;34m\u001b[0m\u001b[0m\n\u001b[1;32m      5\u001b[0m     coords = [\n",
      "\u001b[0;31mNameError\u001b[0m: name 'string' is not defined"
     ]
    }
   ],
   "source": [
    "# add some sites\n",
    "for q in range(n_sites):\n",
    "    id_string = ''.join(random.choice(string.ascii_uppercase) for _ in range(4))\n",
    "    name = 'Site %s' % id_string\n",
    "    coords = [\n",
    "        np.random.rand() * (n_lon * step_lon) + min_lon,\n",
    "        np.random.rand() * (n_lat * step_lat) + min_lat\n",
    "    ]\n",
    "    element_type = 'site'\n",
    "    description = '<h3>%s</h3>' % name + \\\n",
    "        'Latitude: %.2f<br>' % coords[0] + \\\n",
    "        'Longitude: %.2f' % coords[1]\n",
    "    geo = {\n",
    "        'type': 'Point',\n",
    "        'coordinates': coords,\n",
    "    }\n",
    "    prop = {\n",
    "        'id': id_string,\n",
    "        'element_type': element_type,\n",
    "        'name': name,\n",
    "        'description': description\n",
    "    }\n",
    "    feat = {\n",
    "        'type': 'Feature',\n",
    "        'geometry': geo,\n",
    "        'properties': prop\n",
    "    }\n",
    "    lf.append(feat)"
   ]
  },
  {
   "cell_type": "code",
   "execution_count": null,
   "metadata": {
    "collapsed": true
   },
   "outputs": [],
   "source": [
    "fc = {\n",
    "    'type': 'FeatureCollection',\n",
    "    'features': lf,\n",
    "}"
   ]
  },
  {
   "cell_type": "code",
   "execution_count": null,
   "metadata": {
    "collapsed": true
   },
   "outputs": [],
   "source": [
    "with open(fname_geojson, 'w') as gridfile:\n",
    "    json.dump(fc, gridfile)"
   ]
  }
 ],
 "metadata": {
  "kernelspec": {
   "display_name": "Python 3",
   "language": "python",
   "name": "python3"
  },
  "language_info": {
   "codemirror_mode": {
    "name": "ipython",
    "version": 3
   },
   "file_extension": ".py",
   "mimetype": "text/x-python",
   "name": "python",
   "nbconvert_exporter": "python",
   "pygments_lexer": "ipython3",
   "version": "3.5.3"
  }
 },
 "nbformat": 4,
 "nbformat_minor": 2
}
