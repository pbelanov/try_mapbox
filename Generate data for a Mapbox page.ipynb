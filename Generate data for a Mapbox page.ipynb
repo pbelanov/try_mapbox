{
 "cells": [
  {
   "cell_type": "markdown",
   "metadata": {},
   "source": [
    "# Goal\n",
    "\n",
    "I want to make a quick 'hello world' page using the Mabox Web API. For this, I need a GeoJSON grid and some data to plot on that grid. This notebook generates those two files."
   ]
  },
  {
   "cell_type": "markdown",
   "metadata": {},
   "source": [
    "# Setup"
   ]
  },
  {
   "cell_type": "code",
   "execution_count": 24,
   "metadata": {
    "collapsed": true
   },
   "outputs": [],
   "source": [
    "import numpy as np\n",
    "import pandas as pd\n",
    "import json"
   ]
  },
  {
   "cell_type": "code",
   "execution_count": 25,
   "metadata": {
    "collapsed": true
   },
   "outputs": [],
   "source": [
    "# parameters\n",
    "# parameters\n",
    "n_lat = 20  # number of polygons in the latitude direction\n",
    "n_lon = 20  # number of polygons in the longitude direction\n",
    "step_lat = 0.01  # width of a polygon in the latitude direction, in degrees\n",
    "step_lon = 0.02  # width of a polygon in the longitude direction, in degrees\n",
    "min_lat = 47.  # minimum latitude, in degrees\n",
    "min_lon = 7.  # minimum longitude, in degrees\n",
    "data_dir = './'\n",
    "fname_geojson = data_dir + 'grid.json'"
   ]
  },
  {
   "cell_type": "markdown",
   "metadata": {},
   "source": [
    "# GeoJSON file\n",
    "\n",
    "This is the definition of the grid, but does not contain any data to be plotted. It says _where_, but not _what_."
   ]
  },
  {
   "cell_type": "code",
   "execution_count": 26,
   "metadata": {
    "collapsed": true
   },
   "outputs": [],
   "source": [
    "lf = []  # list of Features\n",
    "for y in range(n_lat):\n",
    "    for x in range(n_lon):\n",
    "        id_string = '%d-%d' % (y, x)\n",
    "        name = 'Sector %s' % id_string\n",
    "        min_y = min_lat + y * step_lat\n",
    "        min_x = min_lon + x * step_lon\n",
    "        coords = [[\n",
    "            (min_x, min_y),\n",
    "            (min_x + step_lon, min_y),\n",
    "            (min_x + step_lon, min_y + step_lat),\n",
    "            (min_x, min_y + step_lat),\n",
    "            (min_x, min_y)\n",
    "        ]]\n",
    "        geo = {\n",
    "            'type': 'Polygon',\n",
    "            'coordinates': coords,\n",
    "        }\n",
    "        prop = {\n",
    "            'id': id_string,\n",
    "            'name': name\n",
    "        }\n",
    "        feat = {\n",
    "            'type': 'Feature',\n",
    "            'geometry': geo,\n",
    "            'properties': prop\n",
    "        }\n",
    "        lf.append(feat)"
   ]
  },
  {
   "cell_type": "code",
   "execution_count": 27,
   "metadata": {
    "collapsed": true
   },
   "outputs": [],
   "source": [
    "fc = {\n",
    "    'type': 'FeatureCollection',\n",
    "    'features': lf,\n",
    "}"
   ]
  },
  {
   "cell_type": "code",
   "execution_count": 28,
   "metadata": {
    "collapsed": true
   },
   "outputs": [],
   "source": [
    "with open(fname_geojson, 'w') as gridfile:\n",
    "    json.dump(fc, gridfile)"
   ]
  }
 ],
 "metadata": {
  "kernelspec": {
   "display_name": "Python 3",
   "language": "python",
   "name": "python3"
  },
  "language_info": {
   "codemirror_mode": {
    "name": "ipython",
    "version": 3
   },
   "file_extension": ".py",
   "mimetype": "text/x-python",
   "name": "python",
   "nbconvert_exporter": "python",
   "pygments_lexer": "ipython3",
   "version": "3.5.3"
  }
 },
 "nbformat": 4,
 "nbformat_minor": 2
}
